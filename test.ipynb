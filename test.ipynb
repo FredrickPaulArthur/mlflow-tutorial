{
 "cells": [
  {
   "cell_type": "markdown",
   "id": "456f150b",
   "metadata": {},
   "source": [
    "What are Experiments?\n",
    "\n",
    "An experiment typically refers to a controlled process where a specific hypothesis or objective is tested by manipulating certain variables (data, model parameters, algorithms, etc.) and observing the outcomes. These experiments help in understanding, validating, and improving models, as well as in drawing conclusions based on the data."
   ]
  },
  {
   "cell_type": "code",
   "execution_count": 3,
   "id": "5fada7a7",
   "metadata": {},
   "outputs": [
    {
     "data": {
      "text/plain": [
       "'3.4.0'"
      ]
     },
     "execution_count": 3,
     "metadata": {},
     "output_type": "execute_result"
    }
   ],
   "source": [
    "import mlflow\n",
    "mlflow.__version__"
   ]
  }
 ],
 "metadata": {
  "kernelspec": {
   "display_name": "Python 3",
   "language": "python",
   "name": "python3"
  },
  "language_info": {
   "codemirror_mode": {
    "name": "ipython",
    "version": 3
   },
   "file_extension": ".py",
   "mimetype": "text/x-python",
   "name": "python",
   "nbconvert_exporter": "python",
   "pygments_lexer": "ipython3",
   "version": "3.13.2"
  }
 },
 "nbformat": 4,
 "nbformat_minor": 5
}
